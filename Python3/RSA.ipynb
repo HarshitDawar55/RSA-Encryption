{
 "cells": [
  {
   "cell_type": "markdown",
   "metadata": {},
   "source": [
    "# RSA Encryption Alogorithm by `Mr. Harshit Dawar! `"
   ]
  },
  {
   "cell_type": "code",
   "execution_count": 1,
   "metadata": {},
   "outputs": [],
   "source": [
    "from math import sqrt"
   ]
  },
  {
   "cell_type": "code",
   "execution_count": 8,
   "metadata": {},
   "outputs": [],
   "source": [
    "def primeCheck(n):\n",
    "    if n < 2:\n",
    "        return False\n",
    "    for i in range(2, int(sqrt(n)) + 1):\n",
    "        if n % i == 0:\n",
    "            return False\n",
    "    return True"
   ]
  },
  {
   "cell_type": "code",
   "execution_count": 17,
   "metadata": {},
   "outputs": [],
   "source": [
    "def cal_gcd(a, b):\n",
    "    if a == 0:\n",
    "        return b\n",
    "    else:\n",
    "        return cal_gcd(b % a, a)"
   ]
  },
  {
   "cell_type": "code",
   "execution_count": 29,
   "metadata": {},
   "outputs": [],
   "source": [
    "def cal_Euler_Totient_Function(p, q):\n",
    "    return (p - 1) * (q - 1)"
   ]
  },
  {
   "cell_type": "code",
   "execution_count": 45,
   "metadata": {},
   "outputs": [],
   "source": [
    "def key_generator():\n",
    "    print(\"Enter 2 space seperated Prime Numbers\")\n",
    "    p, q = list(map(int, input().split()))\n",
    "    if primeCheck(p) and primeCheck(q):\n",
    "#         print(p, q)\n",
    "        n = p * q\n",
    "        phi = cal_Euler_Totient_Function(p, q)\n",
    "        \n",
    "        e = 2\n",
    "        while not cal_gcd(e, phi) == 1 and e < phi:\n",
    "            e += 1\n",
    "        print(\"e: \", e)\n",
    "        \n",
    "        d = 1\n",
    "        while not (d * e) % phi == 1:\n",
    "            d += 1\n",
    "        \n",
    "        print(\"d: \", d)\n",
    "        \n",
    "        return e, d, n\n",
    "    else:\n",
    "        print(\"Numbers entered are not prime. Exiting!!!\")\n",
    "        "
   ]
  },
  {
   "cell_type": "code",
   "execution_count": 46,
   "metadata": {},
   "outputs": [],
   "source": [
    "def RSA():\n",
    "    e, d, n = key_generator()\n",
    "    plaintext = len(input(\"Enter the Text to be ecnrypted! \\n\"))\n",
    "    ciphertext = (plaintext ** e) % n\n",
    "    decryptedText = (ciphertext ** d) % n\n",
    "    \n",
    "    print(\"PlainText: {} \\nCipherText: {} \\nDecryptedText: {}\".format(plaintext, ciphertext, decryptedText))"
   ]
  },
  {
   "cell_type": "code",
   "execution_count": 47,
   "metadata": {},
   "outputs": [
    {
     "name": "stdout",
     "output_type": "stream",
     "text": [
      "Enter 2 space seperated Prime Numbers\n",
      "3 7\n",
      "e:  5\n",
      "d:  5\n",
      "Enter the Text to be ecnrypted! \n",
      "HarshitDawar\n",
      "PlainText: 12 \n",
      "CipherText: 3 \n",
      "DecryptedText: 12\n"
     ]
    }
   ],
   "source": [
    "RSA()"
   ]
  },
  {
   "cell_type": "markdown",
   "metadata": {},
   "source": [
    "# Amazing, RSA Efficient Program is completed/implemented!"
   ]
  }
 ],
 "metadata": {
  "kernelspec": {
   "display_name": "Python 3",
   "language": "python",
   "name": "python3"
  },
  "language_info": {
   "codemirror_mode": {
    "name": "ipython",
    "version": 3
   },
   "file_extension": ".py",
   "mimetype": "text/x-python",
   "name": "python",
   "nbconvert_exporter": "python",
   "pygments_lexer": "ipython3",
   "version": "3.7.9"
  }
 },
 "nbformat": 4,
 "nbformat_minor": 4
}
